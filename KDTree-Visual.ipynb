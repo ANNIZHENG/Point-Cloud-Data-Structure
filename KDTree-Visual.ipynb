{
 "cells": [
  {
   "cell_type": "code",
   "execution_count": 10,
   "id": "7fab9f97",
   "metadata": {},
   "outputs": [],
   "source": [
    "import pandas as pd\n",
    "import random"
   ]
  },
  {
   "cell_type": "code",
   "execution_count": 11,
   "id": "a83b482f",
   "metadata": {},
   "outputs": [],
   "source": [
    "# Import data, retrieve only coordinate information\n",
    "\n",
    "# data = pd.read_csv('House/csv/random/house_random.csv', sep=',')[['X', 'Y', 'Z']]\n",
    "data = pd.read_csv('House/csv/spatial/house_spatial.csv', sep=',')[['X', 'Y', 'Z']]"
   ]
  },
  {
   "cell_type": "code",
   "execution_count": 12,
   "id": "438442aa",
   "metadata": {},
   "outputs": [],
   "source": [
    "# Function that creates unique id\n",
    "\n",
    "node_ids = set()\n",
    "def generate_node_id(node_ids):\n",
    "    new_id = random.randint(1, 1e5)\n",
    "    while new_id in node_ids:\n",
    "        new_id = random.randint(1, 1e5)\n",
    "    node_ids.add(new_id)\n",
    "    return new_id"
   ]
  },
  {
   "cell_type": "code",
   "execution_count": 13,
   "id": "ad4c72b5",
   "metadata": {},
   "outputs": [],
   "source": [
    "# Node structure for k-d tree\n",
    "\n",
    "class Node:\n",
    "    def __init__(self, point, id, depth, points_count, left=None, right=None):\n",
    "        self.point = point\n",
    "        self.id = id\n",
    "        self.depth = depth\n",
    "        self.points_count = points_count\n",
    "        self.left = left\n",
    "        self.right = right"
   ]
  },
  {
   "cell_type": "code",
   "execution_count": 14,
   "id": "68a4469b",
   "metadata": {},
   "outputs": [],
   "source": [
    "# Adjust the build_kdtree function to limit depth and include points count\n",
    "\n",
    "def build_kdtree(points, depth=0, max_depth=4):\n",
    "    if not points or depth >= max_depth:\n",
    "        return None\n",
    "\n",
    "    k = len(points[0])\n",
    "    axis = depth % k\n",
    "    points.sort(key=lambda x: x[axis])\n",
    "    median = len(points) // 2\n",
    "    node_id = generate_node_id(node_ids)\n",
    "\n",
    "    return Node(\n",
    "        point=points[median],\n",
    "        id=node_id,\n",
    "        depth=depth,\n",
    "        points_count=len(points),\n",
    "        left=build_kdtree(points[:median], depth + 1, max_depth),\n",
    "        right=build_kdtree(points[median + 1:], depth + 1, max_depth)\n",
    "    )"
   ]
  },
  {
   "cell_type": "code",
   "execution_count": 15,
   "id": "1475ac6b",
   "metadata": {},
   "outputs": [],
   "source": [
    "# Function to build k-d tree and output CSV files\n",
    "\n",
    "def traverse_and_collect_data(node, depth=0, max_depth=4):\n",
    "    if node is None or depth >= max_depth:\n",
    "        return [], []\n",
    "\n",
    "    nodes = [{'Id': node.id, 'Degree': node.points_count, 'Depth': node.depth}]\n",
    "    edges = []\n",
    "\n",
    "    if node.left is not None:\n",
    "        edges.append({'Source': node.id, 'Target': node.left.id, 'Type': 'Directed'})\n",
    "        left_nodes, left_edges = traverse_and_collect_data(node.left, depth + 1, max_depth)\n",
    "        nodes += left_nodes\n",
    "        edges += left_edges\n",
    "\n",
    "    if node.right is not None:\n",
    "        edges.append({'Source': node.id, 'Target': node.right.id, 'Type': 'Directed'})\n",
    "        right_nodes, right_edges = traverse_and_collect_data(node.right, depth + 1, max_depth)\n",
    "        nodes += right_nodes\n",
    "        edges += right_edges\n",
    "\n",
    "    return nodes, edges"
   ]
  },
  {
   "cell_type": "code",
   "execution_count": 16,
   "id": "d651198b",
   "metadata": {},
   "outputs": [],
   "source": [
    "points_with_id = data.assign(Id=data.index).values.tolist()\n",
    "\n",
    "kdtree = build_kdtree(points_with_id)\n",
    "\n",
    "nodes_data, edges_data = traverse_and_collect_data(kdtree)"
   ]
  },
  {
   "cell_type": "code",
   "execution_count": 17,
   "id": "6f964c20",
   "metadata": {},
   "outputs": [],
   "source": [
    "nodes_df = pd.DataFrame(nodes_data)\n",
    "edges_df = pd.DataFrame(edges_data)\n",
    "\n",
    "# nodes_df.to_csv('House/csv/random/node.csv', index=False)\n",
    "# edges_df.to_csv('House/csv/random/edge.csv', index=False)\n",
    "\n",
    "nodes_df.to_csv('House/csv/spatial/node.csv', index=False)\n",
    "edges_df.to_csv('House/csv/spatial/edge.csv', index=False)"
   ]
  },
  {
   "cell_type": "code",
   "execution_count": null,
   "id": "edc40853",
   "metadata": {},
   "outputs": [],
   "source": []
  }
 ],
 "metadata": {
  "kernelspec": {
   "display_name": "Python 3 (ipykernel)",
   "language": "python",
   "name": "python3"
  },
  "language_info": {
   "codemirror_mode": {
    "name": "ipython",
    "version": 3
   },
   "file_extension": ".py",
   "mimetype": "text/x-python",
   "name": "python",
   "nbconvert_exporter": "python",
   "pygments_lexer": "ipython3",
   "version": "3.11.4"
  }
 },
 "nbformat": 4,
 "nbformat_minor": 5
}
